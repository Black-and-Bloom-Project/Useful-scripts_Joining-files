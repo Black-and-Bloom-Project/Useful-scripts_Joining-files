{
 "cells": [
  {
   "cell_type": "code",
   "execution_count": 1,
   "metadata": {},
   "outputs": [],
   "source": [
    "# Script for joining files\n",
    "\n",
    "# Version 1: May 2020\n",
    "# Nuno Canha\n",
    "# Goal: This script checks a folder for a specific type of file (csv, txt, ...) and join them according to the selected collumns\n",
    "# This example uses the hourly data for the KAN_M weather station (PROMICE) that is available in the following link:\n",
    "# https://promice.org/PromiceDataPortal/#Automaticweatherstations"
   ]
  },
  {
   "cell_type": "code",
   "execution_count": 2,
   "metadata": {},
   "outputs": [],
   "source": [
    "# 1. Check which is the folder you are on using \"pwd\""
   ]
  },
  {
   "cell_type": "code",
   "execution_count": 3,
   "metadata": {},
   "outputs": [
    {
     "data": {
      "text/plain": [
       "'C:\\\\Users\\\\Nuno Canha\\\\Desktop\\\\Python\\\\Library\\\\Notebooks and scripts_final version\\\\Notebooks\\\\Exercises'"
      ]
     },
     "execution_count": 3,
     "metadata": {},
     "output_type": "execute_result"
    }
   ],
   "source": [
    "pwd"
   ]
  },
  {
   "cell_type": "code",
   "execution_count": 4,
   "metadata": {},
   "outputs": [],
   "source": [
    "#2. If you are not in your working folder, enter in it using the command \"cd\""
   ]
  },
  {
   "cell_type": "code",
   "execution_count": 5,
   "metadata": {},
   "outputs": [
    {
     "name": "stdout",
     "output_type": "stream",
     "text": [
      "C:\\Users\\Nuno Canha\\Desktop\\Python\\Weather\\Analysis\\KAN_M\\Joining files\n"
     ]
    }
   ],
   "source": [
    "cd C:\\Users\\Nuno Canha\\Desktop\\Python\\Weather\\Analysis\\KAN_M\\Joining files"
   ]
  },
  {
   "cell_type": "code",
   "execution_count": 6,
   "metadata": {},
   "outputs": [],
   "source": [
    "# Upload the analysis packages\n",
    "import pandas as pd\n",
    "from glob import glob"
   ]
  },
  {
   "cell_type": "code",
   "execution_count": 7,
   "metadata": {},
   "outputs": [],
   "source": [
    "# Use glob() to list all files that match a pattern (in this case csv type file) and sort results\n",
    "stock_files = sorted(glob('*.csv'))"
   ]
  },
  {
   "cell_type": "code",
   "execution_count": 8,
   "metadata": {},
   "outputs": [
    {
     "data": {
      "text/plain": [
       "['KAN_M_hour_v03.csv', 'KAN_M_transmitted.csv']"
      ]
     },
     "execution_count": 8,
     "metadata": {},
     "output_type": "execute_result"
    }
   ],
   "source": [
    "# Check the files that were considered:\n",
    "stock_files"
   ]
  },
  {
   "cell_type": "code",
   "execution_count": 9,
   "metadata": {},
   "outputs": [],
   "source": [
    "# Use a generator expression to read the files, assign(), to create a new column (name of file to control), and concat() to concat all files"
   ]
  },
  {
   "cell_type": "code",
   "execution_count": 10,
   "metadata": {},
   "outputs": [],
   "source": [
    "# NOTES: skype rows with non-essential info for data analysis\n",
    "    # assign() will create a column with the file name of the data source (to random check)\n",
    "    # skiprows=0 -> will only consider the data on line 1 (starting with columns' name)\n",
    "    # ignore_index will provide continues index number between files\n",
    "    # delimiter=\";\" - this will select the delimiter used in the original dataset (\",\", \";\",...)\n",
    "    # The collumns in the original datasets that wanted to be kept should be described in the section \"usecols\"."
   ]
  },
  {
   "cell_type": "code",
   "execution_count": 11,
   "metadata": {},
   "outputs": [
    {
     "name": "stderr",
     "output_type": "stream",
     "text": [
      "C:\\Anaconda\\lib\\site-packages\\ipykernel_launcher.py:2: DtypeWarning: Columns (12) have mixed types.Specify dtype option on import or set low_memory=False.\n",
      "  \n"
     ]
    }
   ],
   "source": [
    "data = pd.concat((pd.read_csv(file, delimiter=\";\", skiprows=0, usecols=['Year','MonthOfYear', 'DayOfMonth', 'HourOfDay(UTC)','AirTemperature(C)','RelativeHumidity(%)','WindSpeed(m/s)','WindDirection(d)'], na_values=['-999.0']).assign(filename = file)\n",
    "          for file in stock_files), ignore_index = True)"
   ]
  },
  {
   "cell_type": "code",
   "execution_count": 12,
   "metadata": {},
   "outputs": [
    {
     "data": {
      "text/html": [
       "<div>\n",
       "<style scoped>\n",
       "    .dataframe tbody tr th:only-of-type {\n",
       "        vertical-align: middle;\n",
       "    }\n",
       "\n",
       "    .dataframe tbody tr th {\n",
       "        vertical-align: top;\n",
       "    }\n",
       "\n",
       "    .dataframe thead th {\n",
       "        text-align: right;\n",
       "    }\n",
       "</style>\n",
       "<table border=\"1\" class=\"dataframe\">\n",
       "  <thead>\n",
       "    <tr style=\"text-align: right;\">\n",
       "      <th></th>\n",
       "      <th>Year</th>\n",
       "      <th>MonthOfYear</th>\n",
       "      <th>DayOfMonth</th>\n",
       "      <th>HourOfDay(UTC)</th>\n",
       "      <th>AirTemperature(C)</th>\n",
       "      <th>RelativeHumidity(%)</th>\n",
       "      <th>WindSpeed(m/s)</th>\n",
       "      <th>WindDirection(d)</th>\n",
       "      <th>filename</th>\n",
       "    </tr>\n",
       "  </thead>\n",
       "  <tbody>\n",
       "    <tr>\n",
       "      <th>0</th>\n",
       "      <td>2008</td>\n",
       "      <td>9</td>\n",
       "      <td>2</td>\n",
       "      <td>0</td>\n",
       "      <td>NaN</td>\n",
       "      <td>NaN</td>\n",
       "      <td>NaN</td>\n",
       "      <td>NaN</td>\n",
       "      <td>KAN_M_hour_v03.csv</td>\n",
       "    </tr>\n",
       "    <tr>\n",
       "      <th>1</th>\n",
       "      <td>2008</td>\n",
       "      <td>9</td>\n",
       "      <td>2</td>\n",
       "      <td>1</td>\n",
       "      <td>NaN</td>\n",
       "      <td>NaN</td>\n",
       "      <td>NaN</td>\n",
       "      <td>NaN</td>\n",
       "      <td>KAN_M_hour_v03.csv</td>\n",
       "    </tr>\n",
       "    <tr>\n",
       "      <th>2</th>\n",
       "      <td>2008</td>\n",
       "      <td>9</td>\n",
       "      <td>2</td>\n",
       "      <td>2</td>\n",
       "      <td>NaN</td>\n",
       "      <td>NaN</td>\n",
       "      <td>NaN</td>\n",
       "      <td>NaN</td>\n",
       "      <td>KAN_M_hour_v03.csv</td>\n",
       "    </tr>\n",
       "    <tr>\n",
       "      <th>3</th>\n",
       "      <td>2008</td>\n",
       "      <td>9</td>\n",
       "      <td>2</td>\n",
       "      <td>3</td>\n",
       "      <td>NaN</td>\n",
       "      <td>NaN</td>\n",
       "      <td>NaN</td>\n",
       "      <td>NaN</td>\n",
       "      <td>KAN_M_hour_v03.csv</td>\n",
       "    </tr>\n",
       "    <tr>\n",
       "      <th>4</th>\n",
       "      <td>2008</td>\n",
       "      <td>9</td>\n",
       "      <td>2</td>\n",
       "      <td>4</td>\n",
       "      <td>NaN</td>\n",
       "      <td>NaN</td>\n",
       "      <td>NaN</td>\n",
       "      <td>NaN</td>\n",
       "      <td>KAN_M_hour_v03.csv</td>\n",
       "    </tr>\n",
       "  </tbody>\n",
       "</table>\n",
       "</div>"
      ],
      "text/plain": [
       "   Year  MonthOfYear  DayOfMonth  HourOfDay(UTC)  AirTemperature(C)  \\\n",
       "0  2008            9           2               0                NaN   \n",
       "1  2008            9           2               1                NaN   \n",
       "2  2008            9           2               2                NaN   \n",
       "3  2008            9           2               3                NaN   \n",
       "4  2008            9           2               4                NaN   \n",
       "\n",
       "   RelativeHumidity(%)  WindSpeed(m/s) WindDirection(d)            filename  \n",
       "0                  NaN             NaN              NaN  KAN_M_hour_v03.csv  \n",
       "1                  NaN             NaN              NaN  KAN_M_hour_v03.csv  \n",
       "2                  NaN             NaN              NaN  KAN_M_hour_v03.csv  \n",
       "3                  NaN             NaN              NaN  KAN_M_hour_v03.csv  \n",
       "4                  NaN             NaN              NaN  KAN_M_hour_v03.csv  "
      ]
     },
     "execution_count": 12,
     "metadata": {},
     "output_type": "execute_result"
    }
   ],
   "source": [
    "# Check the data:\n",
    "data.head()"
   ]
  },
  {
   "cell_type": "code",
   "execution_count": 13,
   "metadata": {},
   "outputs": [
    {
     "data": {
      "text/html": [
       "<div>\n",
       "<style scoped>\n",
       "    .dataframe tbody tr th:only-of-type {\n",
       "        vertical-align: middle;\n",
       "    }\n",
       "\n",
       "    .dataframe tbody tr th {\n",
       "        vertical-align: top;\n",
       "    }\n",
       "\n",
       "    .dataframe thead th {\n",
       "        text-align: right;\n",
       "    }\n",
       "</style>\n",
       "<table border=\"1\" class=\"dataframe\">\n",
       "  <thead>\n",
       "    <tr style=\"text-align: right;\">\n",
       "      <th></th>\n",
       "      <th>Year</th>\n",
       "      <th>MonthOfYear</th>\n",
       "      <th>DayOfMonth</th>\n",
       "      <th>HourOfDay(UTC)</th>\n",
       "      <th>AirTemperature(C)</th>\n",
       "      <th>RelativeHumidity(%)</th>\n",
       "      <th>WindSpeed(m/s)</th>\n",
       "      <th>WindDirection(d)</th>\n",
       "      <th>filename</th>\n",
       "    </tr>\n",
       "  </thead>\n",
       "  <tbody>\n",
       "    <tr>\n",
       "      <th>100532</th>\n",
       "      <td>2020</td>\n",
       "      <td>12</td>\n",
       "      <td>10</td>\n",
       "      <td>23</td>\n",
       "      <td>-20.10</td>\n",
       "      <td>67.2</td>\n",
       "      <td>9.47</td>\n",
       "      <td>146.8</td>\n",
       "      <td>KAN_M_transmitted.csv</td>\n",
       "    </tr>\n",
       "    <tr>\n",
       "      <th>100533</th>\n",
       "      <td>2020</td>\n",
       "      <td>12</td>\n",
       "      <td>11</td>\n",
       "      <td>23</td>\n",
       "      <td>-22.35</td>\n",
       "      <td>67.5</td>\n",
       "      <td>8.37</td>\n",
       "      <td>152.9</td>\n",
       "      <td>KAN_M_transmitted.csv</td>\n",
       "    </tr>\n",
       "    <tr>\n",
       "      <th>100534</th>\n",
       "      <td>2020</td>\n",
       "      <td>12</td>\n",
       "      <td>12</td>\n",
       "      <td>23</td>\n",
       "      <td>-11.79</td>\n",
       "      <td>80.9</td>\n",
       "      <td>8.22</td>\n",
       "      <td>140.5</td>\n",
       "      <td>KAN_M_transmitted.csv</td>\n",
       "    </tr>\n",
       "    <tr>\n",
       "      <th>100535</th>\n",
       "      <td>2020</td>\n",
       "      <td>12</td>\n",
       "      <td>13</td>\n",
       "      <td>23</td>\n",
       "      <td>-9.46</td>\n",
       "      <td>87.6</td>\n",
       "      <td>5.38</td>\n",
       "      <td>164.3</td>\n",
       "      <td>KAN_M_transmitted.csv</td>\n",
       "    </tr>\n",
       "    <tr>\n",
       "      <th>100536</th>\n",
       "      <td>2020</td>\n",
       "      <td>12</td>\n",
       "      <td>14</td>\n",
       "      <td>23</td>\n",
       "      <td>-17.02</td>\n",
       "      <td>81.9</td>\n",
       "      <td>4.75</td>\n",
       "      <td>22.1</td>\n",
       "      <td>KAN_M_transmitted.csv</td>\n",
       "    </tr>\n",
       "  </tbody>\n",
       "</table>\n",
       "</div>"
      ],
      "text/plain": [
       "        Year  MonthOfYear  DayOfMonth  HourOfDay(UTC)  AirTemperature(C)  \\\n",
       "100532  2020           12          10              23             -20.10   \n",
       "100533  2020           12          11              23             -22.35   \n",
       "100534  2020           12          12              23             -11.79   \n",
       "100535  2020           12          13              23              -9.46   \n",
       "100536  2020           12          14              23             -17.02   \n",
       "\n",
       "        RelativeHumidity(%)  WindSpeed(m/s) WindDirection(d)  \\\n",
       "100532                 67.2            9.47            146.8   \n",
       "100533                 67.5            8.37            152.9   \n",
       "100534                 80.9            8.22            140.5   \n",
       "100535                 87.6            5.38            164.3   \n",
       "100536                 81.9            4.75             22.1   \n",
       "\n",
       "                     filename  \n",
       "100532  KAN_M_transmitted.csv  \n",
       "100533  KAN_M_transmitted.csv  \n",
       "100534  KAN_M_transmitted.csv  \n",
       "100535  KAN_M_transmitted.csv  \n",
       "100536  KAN_M_transmitted.csv  "
      ]
     },
     "execution_count": 13,
     "metadata": {},
     "output_type": "execute_result"
    }
   ],
   "source": [
    "data.tail()"
   ]
  },
  {
   "cell_type": "code",
   "execution_count": 14,
   "metadata": {},
   "outputs": [
    {
     "data": {
      "text/html": [
       "<div>\n",
       "<style scoped>\n",
       "    .dataframe tbody tr th:only-of-type {\n",
       "        vertical-align: middle;\n",
       "    }\n",
       "\n",
       "    .dataframe tbody tr th {\n",
       "        vertical-align: top;\n",
       "    }\n",
       "\n",
       "    .dataframe thead th {\n",
       "        text-align: right;\n",
       "    }\n",
       "</style>\n",
       "<table border=\"1\" class=\"dataframe\">\n",
       "  <thead>\n",
       "    <tr style=\"text-align: right;\">\n",
       "      <th></th>\n",
       "      <th>Year</th>\n",
       "      <th>MonthOfYear</th>\n",
       "      <th>DayOfMonth</th>\n",
       "      <th>HourOfDay(UTC)</th>\n",
       "      <th>AirTemperature(C)</th>\n",
       "      <th>RelativeHumidity(%)</th>\n",
       "      <th>WindSpeed(m/s)</th>\n",
       "    </tr>\n",
       "  </thead>\n",
       "  <tbody>\n",
       "    <tr>\n",
       "      <th>count</th>\n",
       "      <td>100537.000000</td>\n",
       "      <td>100537.000000</td>\n",
       "      <td>100537.000000</td>\n",
       "      <td>100537.000000</td>\n",
       "      <td>93655.000000</td>\n",
       "      <td>93457.000000</td>\n",
       "      <td>93655.000000</td>\n",
       "    </tr>\n",
       "    <tr>\n",
       "      <th>mean</th>\n",
       "      <td>2013.899798</td>\n",
       "      <td>6.663059</td>\n",
       "      <td>15.720501</td>\n",
       "      <td>11.505605</td>\n",
       "      <td>-11.680900</td>\n",
       "      <td>84.405293</td>\n",
       "      <td>6.138910</td>\n",
       "    </tr>\n",
       "    <tr>\n",
       "      <th>std</th>\n",
       "      <td>3.324908</td>\n",
       "      <td>3.469916</td>\n",
       "      <td>8.794472</td>\n",
       "      <td>6.925187</td>\n",
       "      <td>10.386773</td>\n",
       "      <td>16.535059</td>\n",
       "      <td>3.635346</td>\n",
       "    </tr>\n",
       "    <tr>\n",
       "      <th>min</th>\n",
       "      <td>2008.000000</td>\n",
       "      <td>1.000000</td>\n",
       "      <td>1.000000</td>\n",
       "      <td>0.000000</td>\n",
       "      <td>-47.190000</td>\n",
       "      <td>0.300000</td>\n",
       "      <td>0.000000</td>\n",
       "    </tr>\n",
       "    <tr>\n",
       "      <th>25%</th>\n",
       "      <td>2011.000000</td>\n",
       "      <td>4.000000</td>\n",
       "      <td>8.000000</td>\n",
       "      <td>6.000000</td>\n",
       "      <td>-19.160000</td>\n",
       "      <td>79.600000</td>\n",
       "      <td>3.580000</td>\n",
       "    </tr>\n",
       "    <tr>\n",
       "      <th>50%</th>\n",
       "      <td>2014.000000</td>\n",
       "      <td>7.000000</td>\n",
       "      <td>16.000000</td>\n",
       "      <td>12.000000</td>\n",
       "      <td>-10.340000</td>\n",
       "      <td>87.400000</td>\n",
       "      <td>5.570000</td>\n",
       "    </tr>\n",
       "    <tr>\n",
       "      <th>75%</th>\n",
       "      <td>2017.000000</td>\n",
       "      <td>10.000000</td>\n",
       "      <td>23.000000</td>\n",
       "      <td>18.000000</td>\n",
       "      <td>-2.440000</td>\n",
       "      <td>94.600000</td>\n",
       "      <td>7.880000</td>\n",
       "    </tr>\n",
       "    <tr>\n",
       "      <th>max</th>\n",
       "      <td>2020.000000</td>\n",
       "      <td>12.000000</td>\n",
       "      <td>31.000000</td>\n",
       "      <td>23.000000</td>\n",
       "      <td>7.410000</td>\n",
       "      <td>100.000000</td>\n",
       "      <td>29.740000</td>\n",
       "    </tr>\n",
       "  </tbody>\n",
       "</table>\n",
       "</div>"
      ],
      "text/plain": [
       "                Year    MonthOfYear     DayOfMonth  HourOfDay(UTC)  \\\n",
       "count  100537.000000  100537.000000  100537.000000   100537.000000   \n",
       "mean     2013.899798       6.663059      15.720501       11.505605   \n",
       "std         3.324908       3.469916       8.794472        6.925187   \n",
       "min      2008.000000       1.000000       1.000000        0.000000   \n",
       "25%      2011.000000       4.000000       8.000000        6.000000   \n",
       "50%      2014.000000       7.000000      16.000000       12.000000   \n",
       "75%      2017.000000      10.000000      23.000000       18.000000   \n",
       "max      2020.000000      12.000000      31.000000       23.000000   \n",
       "\n",
       "       AirTemperature(C)  RelativeHumidity(%)  WindSpeed(m/s)  \n",
       "count       93655.000000         93457.000000    93655.000000  \n",
       "mean          -11.680900            84.405293        6.138910  \n",
       "std            10.386773            16.535059        3.635346  \n",
       "min           -47.190000             0.300000        0.000000  \n",
       "25%           -19.160000            79.600000        3.580000  \n",
       "50%           -10.340000            87.400000        5.570000  \n",
       "75%            -2.440000            94.600000        7.880000  \n",
       "max             7.410000           100.000000       29.740000  "
      ]
     },
     "execution_count": 14,
     "metadata": {},
     "output_type": "execute_result"
    }
   ],
   "source": [
    "# Descriptive statistics\n",
    "data.describe()"
   ]
  },
  {
   "cell_type": "code",
   "execution_count": 15,
   "metadata": {},
   "outputs": [],
   "source": [
    "# Writing data to a file with all the date\n",
    "# define output filename\n",
    "output_fp = 'input.csv'\n",
    "\n",
    "# Save dataframe to csv\n",
    "data.to_csv(output_fp, sep=',', index = False)\n",
    "\n",
    "# \"index = False\" will remove the column index"
   ]
  },
  {
   "cell_type": "code",
   "execution_count": null,
   "metadata": {},
   "outputs": [],
   "source": []
  }
 ],
 "metadata": {
  "kernelspec": {
   "display_name": "Python 3",
   "language": "python",
   "name": "python3"
  },
  "language_info": {
   "codemirror_mode": {
    "name": "ipython",
    "version": 3
   },
   "file_extension": ".py",
   "mimetype": "text/x-python",
   "name": "python",
   "nbconvert_exporter": "python",
   "pygments_lexer": "ipython3",
   "version": "3.7.6"
  }
 },
 "nbformat": 4,
 "nbformat_minor": 4
}
